{
 "cells": [
  {
   "cell_type": "code",
   "execution_count": 185,
   "id": "b4760212",
   "metadata": {},
   "outputs": [],
   "source": [
    "import random"
   ]
  },
  {
   "cell_type": "code",
   "execution_count": 186,
   "id": "250d21c3",
   "metadata": {},
   "outputs": [],
   "source": [
    "# define global variable \n",
    "\n",
    "MAX_LINES = 3\n",
    "MAX_BET = 100\n",
    "MIN_BET = 1\n",
    "\n",
    "ROWS = 3\n",
    "COLS = 3"
   ]
  },
  {
   "cell_type": "code",
   "execution_count": 187,
   "id": "44c44629",
   "metadata": {},
   "outputs": [],
   "source": [
    "symbol_counts = {\n",
    "    \"A\" : 2,\n",
    "    \"B\" : 4,\n",
    "    \"C\" : 6,\n",
    "    \"D\" : 8\n",
    "}\n"
   ]
  },
  {
   "cell_type": "code",
   "execution_count": 188,
   "id": "67866bac",
   "metadata": {},
   "outputs": [],
   "source": [
    "symbol_values = {\n",
    "    \"A\" : 5,\n",
    "    \"B\" : 4,\n",
    "    \"C\" : 3,\n",
    "    \"D\" : 2\n",
    "}"
   ]
  },
  {
   "cell_type": "code",
   "execution_count": 189,
   "id": "900e57ab",
   "metadata": {},
   "outputs": [],
   "source": [
    "def check_winnings(columns, lines, bet, value):\n",
    "    winnings = 0\n",
    "    winning_lines = []\n",
    "    for line in range(lines):\n",
    "        symbol = columns[0][line]\n",
    "        for column in columns:\n",
    "            symbol_to_check = column[lines]\n",
    "            if symbol != symbol_to_check:\n",
    "                break\n",
    "        else:\n",
    "            winnings += value[symbol] * bet\n",
    "            winning_lines.append(line)\n",
    "    \n",
    "    return winnings, winning_lines"
   ]
  },
  {
   "cell_type": "code",
   "execution_count": 190,
   "id": "0f33047e",
   "metadata": {},
   "outputs": [],
   "source": [
    "def get_slot_machine_spin (rows, cols, symbols):\n",
    "    all_symbols = []\n",
    "    for symbol, symbol_count in symbols.items():\n",
    "        for _ in range (symbol_count):\n",
    "            all_symbols.append(symbol)\n",
    "    \n",
    "    columns = []\n",
    "    for col in range(cols):\n",
    "        column = []\n",
    "        current_symbols = all_symbols[:]  # to make copy of the symbol\n",
    "        for _ in range(rows):\n",
    "            value = random.choice(current_symbols)\n",
    "            current_symbols.remove(value)\n",
    "            column.append(value)\n",
    "            \n",
    "        columns.append(column)\n",
    "    \n",
    "    return columns"
   ]
  },
  {
   "cell_type": "code",
   "execution_count": 191,
   "id": "6c23806a",
   "metadata": {},
   "outputs": [],
   "source": [
    "def print_slot_machine(columns):\n",
    "    for row in range (len(columns[0])):\n",
    "        for i, column in enumerate(columns):\n",
    "            if i != len(columns) -1:\n",
    "                print(column[row], end = \" | \")\n",
    "            else:\n",
    "                print(column[row], end = \" \")\n",
    "        print()"
   ]
  },
  {
   "cell_type": "code",
   "execution_count": 192,
   "id": "32033f2a",
   "metadata": {},
   "outputs": [],
   "source": [
    "# collecting data from user for depositing the amount \n",
    "\n",
    "def deposit():\n",
    "#     print(\"this is executed\")\n",
    "    while True:\n",
    "        amount = input(\"What amount would you like to deposit ? $ \")\n",
    "        if amount.isdigit():\n",
    "            amount = int(amount)\n",
    "            if amount > 0:\n",
    "                break\n",
    "            else :\n",
    "                print(\"Amount must be greater than zero ! \")\n",
    "        else :\n",
    "            print(\"Please enter a number \")\n",
    "            \n",
    "    return amount"
   ]
  },
  {
   "cell_type": "code",
   "execution_count": 193,
   "id": "e119a6ae",
   "metadata": {},
   "outputs": [],
   "source": [
    "def get_number_of_lines ():\n",
    "    #     print(\"this is executed\")\n",
    "    while True:\n",
    "        lines = input(\"Enter the numberof lines to bet on (1-\" + str(MAX_LINES) + \")? \")\n",
    "        if lines.isdigit():\n",
    "            lines = int(lines)\n",
    "            if 1 <= lines <= MAX_LINES:\n",
    "                break\n",
    "            else :\n",
    "                print(\"Enter a valid number of lines. ! \")\n",
    "        else :\n",
    "            print(\"Please enter a number \")\n",
    "            \n",
    "    return lines"
   ]
  },
  {
   "cell_type": "code",
   "execution_count": 194,
   "id": "572fc19e",
   "metadata": {},
   "outputs": [],
   "source": [
    "# the amount to be bet on each lines \n",
    "def get_bet():\n",
    "    #     print(\"this is executed\")\n",
    "    while True:\n",
    "        amount = input(\"What amount would you like to bet on each line ? $ \")\n",
    "        if amount.isdigit():\n",
    "            amount = int(amount)\n",
    "            if MIN_BET <= amount <= MAX_BET:\n",
    "                break\n",
    "            else :\n",
    "                print(f\"Amount must be betwen ${MIN_BET} - ${MAX_BET}. ! \")\n",
    "        else :\n",
    "            print(\"Please enter a number \")\n",
    "            \n",
    "    return amount"
   ]
  },
  {
   "cell_type": "code",
   "execution_count": 195,
   "id": "fef094ae",
   "metadata": {},
   "outputs": [],
   "source": [
    "def spins(balance):\n",
    "    lines = get_number_of_lines()\n",
    "    while True:\n",
    "        bet = get_bet()\n",
    "        total_bet = lines * bet\n",
    "        \n",
    "        if total_bet > balance:\n",
    "            print(f\"You do not have sufficient balance to bet on.\\nYour Current balance is ${balance}. \")\n",
    "        else:\n",
    "            break\n",
    "    \n",
    "#     print(\"The total balance of user is : \", balance)\n",
    "#     print(\"The number of line bets by user is \", lines)\n",
    "    print(f\"You are betting ${bet} on {lines} lines.\\nTotal betting amount will be ${total_bet}\")\n",
    "    \n",
    "    slot = get_slot_machine_spin(ROWS, COLS, symbol_counts)\n",
    "    print_slot_machine(slot)\n",
    "    \n",
    "    winning , winning_lines = check_winnings(slot, lines, bet, symbol_values)\n",
    "    \n",
    "    print(f\"You won ${winning}.\")\n",
    "    print(f\"You won on line .\",*winning_lines)\n",
    "    \n",
    "    return winning - total_bet"
   ]
  },
  {
   "cell_type": "code",
   "execution_count": 196,
   "id": "c886393a",
   "metadata": {},
   "outputs": [],
   "source": [
    "def main():\n",
    "    balance = deposit()\n",
    "    while True:\n",
    "        print(f\" Current balance is ${balance}\")\n",
    "        spin =input (\"Press enter to play (q to quit).\")\n",
    "        if (spin == 'q'):\n",
    "            break\n",
    "        else:\n",
    "            balance += spins(balance)\n",
    "    print(f\"You left with ${balance}\")"
   ]
  },
  {
   "cell_type": "code",
   "execution_count": 197,
   "id": "01c14a2e",
   "metadata": {},
   "outputs": [
    {
     "name": "stdout",
     "output_type": "stream",
     "text": [
      "What amount would you like to deposit ? $ 100\n",
      " Current balance is $100\n",
      "Press enter to play (q to quit).2\n",
      "Enter the numberof lines to bet on (1-3)? 2\n",
      "What amount would you like to bet on each line ? $ 10\n",
      "You are betting $10 on 2 lines.\n",
      "Total betting amount will be $20\n",
      "B | A | B \n",
      "C | A | D \n",
      "D | D | D \n",
      "You won $0.\n",
      "You won on line .\n",
      " Current balance is $80\n",
      "Press enter to play (q to quit).q\n",
      "You left with $80\n"
     ]
    }
   ],
   "source": [
    "main()"
   ]
  },
  {
   "cell_type": "code",
   "execution_count": null,
   "id": "e48c5edd",
   "metadata": {},
   "outputs": [],
   "source": []
  }
 ],
 "metadata": {
  "kernelspec": {
   "display_name": "Python 3 (ipykernel)",
   "language": "python",
   "name": "python3"
  },
  "language_info": {
   "codemirror_mode": {
    "name": "ipython",
    "version": 3
   },
   "file_extension": ".py",
   "mimetype": "text/x-python",
   "name": "python",
   "nbconvert_exporter": "python",
   "pygments_lexer": "ipython3",
   "version": "3.9.13"
  }
 },
 "nbformat": 4,
 "nbformat_minor": 5
}
